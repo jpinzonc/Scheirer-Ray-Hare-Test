{
 "cells": [
  {
   "cell_type": "markdown",
   "metadata": {},
   "source": [
    "# Scheirer-Ray-Hare Test\n",
    "\n",
    "This script performs the Scheirer-Ray-Hare Test on the exercise from 'Real Statistics Using Excel' \n",
    "\n",
    "http://www.real-statistics.com/two-way-anova/scheirer-ray-hare-test/\n",
    "\n",
    "The data should be in a dataframe with three columns:\n",
    "1. Factor 1 (Fertilizer)\n",
    "2. Factor 2 (Crop)\n",
    "3. Measurement\n",
    "\n",
    "In this example I created a file with the data from the original exercise. \n",
    "However, the code should be adaptable to any dataset provided the assumptions for the test, and the formats are the same.\n",
    "\n",
    "For more information on this parametric test visit:\n",
    "\n",
    "https://www.youtube.com/watch?v=N729aMGIUOk\n",
    "\n",
    "http://rcompanion.org/handbook/F_14.html"
   ]
  },
  {
   "cell_type": "code",
   "execution_count": 1,
   "metadata": {},
   "outputs": [],
   "source": [
    "# Importing the libraries. \n",
    "# pandas is necesary for the calculations\n",
    "# scipy allows to estimate the p-value using the Chi-Square distribution\n",
    "import pandas as pd\n",
    "from scipy import stats"
   ]
  },
  {
   "cell_type": "markdown",
   "metadata": {},
   "source": [
    "### Reading the data"
   ]
  },
  {
   "cell_type": "code",
   "execution_count": 2,
   "metadata": {},
   "outputs": [
    {
     "data": {
      "text/html": [
       "<div>\n",
       "<style>\n",
       "    .dataframe thead tr:only-child th {\n",
       "        text-align: right;\n",
       "    }\n",
       "\n",
       "    .dataframe thead th {\n",
       "        text-align: left;\n",
       "    }\n",
       "\n",
       "    .dataframe tbody tr th {\n",
       "        vertical-align: top;\n",
       "    }\n",
       "</style>\n",
       "<table border=\"1\" class=\"dataframe\">\n",
       "  <thead>\n",
       "    <tr style=\"text-align: right;\">\n",
       "      <th></th>\n",
       "      <th>Fertilizer</th>\n",
       "      <th>Crop</th>\n",
       "      <th>Measure</th>\n",
       "    </tr>\n",
       "  </thead>\n",
       "  <tbody>\n",
       "    <tr>\n",
       "      <th>0</th>\n",
       "      <td>Blend X</td>\n",
       "      <td>Wheat</td>\n",
       "      <td>123</td>\n",
       "    </tr>\n",
       "    <tr>\n",
       "      <th>1</th>\n",
       "      <td>Blend X</td>\n",
       "      <td>Wheat</td>\n",
       "      <td>156</td>\n",
       "    </tr>\n",
       "    <tr>\n",
       "      <th>2</th>\n",
       "      <td>Blend X</td>\n",
       "      <td>Wheat</td>\n",
       "      <td>112</td>\n",
       "    </tr>\n",
       "    <tr>\n",
       "      <th>3</th>\n",
       "      <td>Blend X</td>\n",
       "      <td>Wheat</td>\n",
       "      <td>100</td>\n",
       "    </tr>\n",
       "    <tr>\n",
       "      <th>4</th>\n",
       "      <td>Blend X</td>\n",
       "      <td>Wheat</td>\n",
       "      <td>168</td>\n",
       "    </tr>\n",
       "  </tbody>\n",
       "</table>\n",
       "</div>"
      ],
      "text/plain": [
       "  Fertilizer   Crop  Measure\n",
       "0    Blend X  Wheat      123\n",
       "1    Blend X  Wheat      156\n",
       "2    Blend X  Wheat      112\n",
       "3    Blend X  Wheat      100\n",
       "4    Blend X  Wheat      168"
      ]
     },
     "execution_count": 2,
     "metadata": {},
     "output_type": "execute_result"
    }
   ],
   "source": [
    "data = pd.read_csv('crop_data.csv')\n",
    "data.head()"
   ]
  },
  {
   "cell_type": "markdown",
   "metadata": {},
   "source": [
    "This dataframe has three columns: Factor 1 (Fertilizer), Factor 2 (Crop), and measurement (Measure)\n",
    "\n",
    "### Calculating the ranks\n",
    "\n",
    "Ranks are calculated for each measurement. This step is performed on the sorted measurements regardless of the factors "
   ]
  },
  {
   "cell_type": "code",
   "execution_count": 3,
   "metadata": {},
   "outputs": [
    {
     "data": {
      "text/html": [
       "<div>\n",
       "<style>\n",
       "    .dataframe thead tr:only-child th {\n",
       "        text-align: right;\n",
       "    }\n",
       "\n",
       "    .dataframe thead th {\n",
       "        text-align: left;\n",
       "    }\n",
       "\n",
       "    .dataframe tbody tr th {\n",
       "        vertical-align: top;\n",
       "    }\n",
       "</style>\n",
       "<table border=\"1\" class=\"dataframe\">\n",
       "  <thead>\n",
       "    <tr style=\"text-align: right;\">\n",
       "      <th></th>\n",
       "      <th>Fertilizer</th>\n",
       "      <th>Crop</th>\n",
       "      <th>Measure</th>\n",
       "      <th>rank</th>\n",
       "    </tr>\n",
       "  </thead>\n",
       "  <tbody>\n",
       "    <tr>\n",
       "      <th>0</th>\n",
       "      <td>Blend X</td>\n",
       "      <td>Wheat</td>\n",
       "      <td>123</td>\n",
       "      <td>8.0</td>\n",
       "    </tr>\n",
       "    <tr>\n",
       "      <th>1</th>\n",
       "      <td>Blend X</td>\n",
       "      <td>Wheat</td>\n",
       "      <td>156</td>\n",
       "      <td>28.5</td>\n",
       "    </tr>\n",
       "    <tr>\n",
       "      <th>2</th>\n",
       "      <td>Blend X</td>\n",
       "      <td>Wheat</td>\n",
       "      <td>112</td>\n",
       "      <td>3.0</td>\n",
       "    </tr>\n",
       "    <tr>\n",
       "      <th>3</th>\n",
       "      <td>Blend X</td>\n",
       "      <td>Wheat</td>\n",
       "      <td>100</td>\n",
       "      <td>1.0</td>\n",
       "    </tr>\n",
       "    <tr>\n",
       "      <th>4</th>\n",
       "      <td>Blend X</td>\n",
       "      <td>Wheat</td>\n",
       "      <td>168</td>\n",
       "      <td>36.5</td>\n",
       "    </tr>\n",
       "  </tbody>\n",
       "</table>\n",
       "</div>"
      ],
      "text/plain": [
       "  Fertilizer   Crop  Measure  rank\n",
       "0    Blend X  Wheat      123   8.0\n",
       "1    Blend X  Wheat      156  28.5\n",
       "2    Blend X  Wheat      112   3.0\n",
       "3    Blend X  Wheat      100   1.0\n",
       "4    Blend X  Wheat      168  36.5"
      ]
     },
     "execution_count": 3,
     "metadata": {},
     "output_type": "execute_result"
    }
   ],
   "source": [
    "data['rank'] = data.Measure.sort_values().rank(numeric_only = float)\n",
    "data.head()"
   ]
  },
  {
   "cell_type": "markdown",
   "metadata": {},
   "source": [
    "### Calculating the sum of the squares"
   ]
  },
  {
   "cell_type": "code",
   "execution_count": 4,
   "metadata": {
    "scrolled": false
   },
   "outputs": [],
   "source": [
    "rows = data.groupby(['Fertilizer'], as_index = False).agg({'rank':['count', 'mean', 'var']}).rename(columns={'rank':'row'})\n",
    "rows.columns = ['_'.join(col) for col in rows.columns]\n",
    "rows.columns = rows.columns.str.replace(r'_$',\"\")\n",
    "rows['row_mean_rows'] = rows.row_mean.mean()\n",
    "rows['sqdev'] = (rows.row_mean - rows.row_mean_rows)**2"
   ]
  },
  {
   "cell_type": "code",
   "execution_count": 5,
   "metadata": {
    "scrolled": true
   },
   "outputs": [],
   "source": [
    "cols = data.groupby(['Crop'], as_index = False).agg({'rank':['count', 'mean', 'var']}).rename(columns={'rank':'col'})\n",
    "cols.columns = ['_'.join(col) for col in cols.columns]\n",
    "cols.columns = cols.columns.str.replace(r'_$',\"\")\n",
    "cols['col_mean_cols'] = cols.col_mean.mean()\n",
    "cols['sqdev'] = (cols.col_mean-cols.col_mean_cols)**2"
   ]
  },
  {
   "cell_type": "code",
   "execution_count": 6,
   "metadata": {},
   "outputs": [],
   "source": [
    "data_sum         = data.groupby(['Fertilizer', 'Crop'], as_index = False).agg({'rank':['count', 'mean', 'var']})\n",
    "data_sum.columns = ['_'.join(col) for col in data_sum.columns]\n",
    "data_sum.columns = data_sum.columns.str.replace(r'_$',\"\")"
   ]
  },
  {
   "cell_type": "code",
   "execution_count": 7,
   "metadata": {},
   "outputs": [],
   "source": [
    "nobs_row   = rows.row_count.mean()\n",
    "nobs_total = rows.row_count.sum()\n",
    "nobs_col   = cols.col_count.mean()"
   ]
  },
  {
   "cell_type": "code",
   "execution_count": 8,
   "metadata": {},
   "outputs": [],
   "source": [
    "Columns_SS = cols.sqdev.sum()*nobs_col\n",
    "Rows_SS    = rows.sqdev.sum()*nobs_row\n",
    "Within_SS  = data_sum.rank_var.sum()*(data_sum.rank_count.min()-1)\n",
    "MS         = data['rank'].var()\n",
    "TOTAL_SS   = MS * (nobs_total-1)\n",
    "Inter_SS   = TOTAL_SS - Within_SS - Rows_SS - Columns_SS"
   ]
  },
  {
   "cell_type": "markdown",
   "metadata": {},
   "source": [
    "### Calculating the H-statistics and degrees of freedom"
   ]
  },
  {
   "cell_type": "code",
   "execution_count": 9,
   "metadata": {},
   "outputs": [],
   "source": [
    "H_rows = Rows_SS/MS\n",
    "H_cols = Columns_SS/MS\n",
    "H_int  = Inter_SS/MS"
   ]
  },
  {
   "cell_type": "code",
   "execution_count": 10,
   "metadata": {},
   "outputs": [],
   "source": [
    "df_rows   = len(rows)-1\n",
    "df_cols   = len(cols)-1\n",
    "df_int    = df_rows*df_cols\n",
    "df_total  = len(data)-1\n",
    "df_within = df_total - df_int - df_cols - df_rows"
   ]
  },
  {
   "cell_type": "markdown",
   "metadata": {},
   "source": [
    "### Calculating the p-values"
   ]
  },
  {
   "cell_type": "code",
   "execution_count": 11,
   "metadata": {},
   "outputs": [],
   "source": [
    "p_rows  = round(1-stats.chi2.cdf(H_rows, df_rows),4)\n",
    "p_cols  = round(1-stats.chi2.cdf(H_cols, df_cols),4)\n",
    "p_inter = round(1-stats.chi2.cdf(H_int, df_int),4)"
   ]
  },
  {
   "cell_type": "code",
   "execution_count": 12,
   "metadata": {},
   "outputs": [
    {
     "name": "stdout",
     "output_type": "stream",
     "text": [
      "0.0014 0.2222 0.1478\n"
     ]
    }
   ],
   "source": [
    "print(p_rows, p_cols, p_inter)"
   ]
  },
  {
   "cell_type": "code",
   "execution_count": null,
   "metadata": {},
   "outputs": [],
   "source": []
  }
 ],
 "metadata": {
  "kernelspec": {
   "display_name": "Python 3",
   "language": "python",
   "name": "python3"
  },
  "language_info": {
   "codemirror_mode": {
    "name": "ipython",
    "version": 3
   },
   "file_extension": ".py",
   "mimetype": "text/x-python",
   "name": "python",
   "nbconvert_exporter": "python",
   "pygments_lexer": "ipython3",
   "version": "3.6.2"
  }
 },
 "nbformat": 4,
 "nbformat_minor": 2
}
